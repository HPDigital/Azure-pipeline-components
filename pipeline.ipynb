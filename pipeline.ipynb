{
  "cells": [
    {
      "cell_type": "code",
      "source": [
        "import configparser\n",
        "\n",
        "from azure.ai.ml import Input, load_component, MLClient\n",
        "from azure.ai.ml.entities import AmlCompute\n",
        "from azure.ai.ml.dsl import pipeline\n",
        "from azure.identity import DefaultAzureCredential"
      ],
      "outputs": [],
      "execution_count": 98,
      "metadata": {
        "gather": {
          "logged": 1699457934660
        }
      },
      "id": "ea150d18-23d1-489d-946e-a0e8694d6afd"
    },
    {
      "cell_type": "code",
      "source": [
        "import os\n",
        "from azure.identity import DefaultAzureCredential\n",
        "from azure.identity import AzureCliCredential\n",
        "from azure.ai.ml import automl, Input, MLClient, command\n",
        "\n",
        "from azure.ai.ml.constants import AssetTypes\n",
        "from azure.ai.ml.entities import Data\n",
        "from azure.ai.ml.automl import (\n",
        "    classification,\n",
        "    ClassificationPrimaryMetrics,\n",
        "    ClassificationModels,\n",
        ")"
      ],
      "outputs": [],
      "execution_count": 99,
      "metadata": {
        "jupyter": {
          "source_hidden": false,
          "outputs_hidden": false
        },
        "nteract": {
          "transient": {
            "deleting": false
          }
        },
        "gather": {
          "logged": 1699457936488
        }
      },
      "id": "83af3e24-f21d-4f26-9c4e-06a144591209"
    },
    {
      "cell_type": "code",
      "source": [
        "import configparser\n",
        "config = configparser.ConfigParser()\n",
        "config.read('Azure_credentials.cfg')\n",
        "subscription_id = config.get('Azure', 'subscription_id')\n",
        "resource_group = config.get('Azure', 'resource_group')\n",
        "workspace_name = config.get('Azure', 'workspace')\n",
        "datastore_name = config.get('Azure', 'datastore_name')\n",
        "DataStoreURI = config.get('Azure', 'DataStoreURI')\n",
        "#print(subscription_id, resource_group, workspace_name, datastore_name, DataStoreURI)"
      ],
      "outputs": [],
      "execution_count": 100,
      "metadata": {
        "jupyter": {
          "source_hidden": false,
          "outputs_hidden": false
        },
        "nteract": {
          "transient": {
            "deleting": false
          }
        },
        "gather": {
          "logged": 1699457943972
        }
      },
      "id": "6c5951de-22d1-4ca6-a827-d23df964c6f3"
    },
    {
      "cell_type": "code",
      "source": [
        "from azure.ai.ml import MLClient\n",
        "from azure.identity import DefaultAzureCredential\n",
        "\n",
        "# authenticate\n",
        "credential = DefaultAzureCredential()\n",
        "# # Get a handle to the workspace\n",
        "ml_client = MLClient(\n",
        "    credential=credential,\n",
        "    subscription_id=subscription_id,\n",
        "    resource_group_name=resource_group,\n",
        "    workspace_name=workspace_name,\n",
        ")\n",
        "cpu_cluster = None"
      ],
      "outputs": [],
      "execution_count": 101,
      "metadata": {
        "gather": {
          "logged": 1699457947182
        }
      },
      "id": "fe466acb-bd4f-4c4f-8b7f-825e94f0151d"
    },
    {
      "cell_type": "markdown",
      "source": [
        "Cargamos el datset al URI-storage"
      ],
      "metadata": {
        "nteract": {
          "transient": {
            "deleting": false
          }
        }
      },
      "id": "d59858f3-ee2b-4f02-a1e5-3337fe6370e5"
    },
    {
      "cell_type": "code",
      "source": [
        "from azure.ai.ml.entities import Data\n",
        "from azure.ai.ml.constants import AssetTypes\n",
        "\n",
        "# update the 'my_path' variable to match the location of where you downloaded the data on your\n",
        "# local filesystem\n",
        "\n",
        "my_path = \"./Data/water_potability_ds.csv\" # ESTA ES LA DIRECCION D ENUTRO FOLDER ALADO DE NUTROS NOOTEBOOK\n",
        "# set the version number of the data asset\n",
        "v1 = \"initial\"\n",
        "\n",
        "my_data = Data(\n",
        "    name=\"water_potability_ds\",\n",
        "    version=v1,\n",
        "    description=\"water_potability_ds\",\n",
        "    path=my_path,\n",
        "    type=AssetTypes.URI_FILE,\n",
        ")\n",
        "\n",
        "## create data asset if it doesn't already exist:\n",
        "try:\n",
        "    data_asset = ml_client.data.get(name=\"water_potability_ds\", version=v1)\n",
        "    print(\n",
        "        f\"Data asset already exists. Name: {my_data.name}, version: {my_data.version}\"\n",
        "    )\n",
        "except:\n",
        "    ml_client.data.create_or_update(my_data)\n",
        "    print(f\"Data asset created. Name: {my_data.name}, version: {my_data.version}\")"
      ],
      "outputs": [
        {
          "output_type": "stream",
          "name": "stdout",
          "text": "Data asset already exists. Name: water_potability_ds, version: initial\n"
        }
      ],
      "execution_count": 102,
      "metadata": {
        "jupyter": {
          "source_hidden": false,
          "outputs_hidden": false
        },
        "nteract": {
          "transient": {
            "deleting": false
          }
        },
        "gather": {
          "logged": 1699457949734
        }
      },
      "id": "beb1beaa-33c5-40ed-9e11-9df16b967e0e"
    },
    {
      "cell_type": "code",
      "source": [
        "from azure.ai.ml.entities import AmlCompute\n",
        "cpu_compute_target = \"cpu-cluster\"\n",
        "\n",
        "try:\n",
        "     cpu_cluster = ml_client.compute.get(cpu_compute_target)\n",
        "     print(\n",
        "         f\"You already have a cluster named {cpu_compute_target}, we'll reuse it as is.\"\n",
        "     )\n",
        "\n",
        "except Exception:\n",
        "     print(\"Creating a new cpu compute target...\")\n",
        "     cpu_cluster = AmlCompute(\n",
        "         name=cpu_compute_target,\n",
        "         type=\"amlcompute\",\n",
        "         size=\"STANDARD_DS3_V2\",\n",
        "         min_instances=0,\n",
        "         max_instances=4,\n",
        "         idle_time_before_scale_down=180,\n",
        "         tier=\"Dedicated\",\n",
        "     )\n",
        "     print(\n",
        "         f\"AMLCompute with name {cpu_cluster.name} will be created, with compute size {cpu_cluster.size}\"\n",
        "     )\n",
        "     cpu_cluster = ml_client.compute.begin_create_or_update(cpu_cluster)"
      ],
      "outputs": [
        {
          "output_type": "stream",
          "name": "stdout",
          "text": "You already have a cluster named cpu-cluster, we'll reuse it as is.\n"
        }
      ],
      "execution_count": 103,
      "metadata": {
        "gather": {
          "logged": 1699457951905
        }
      },
      "id": "4d9d4b2e-62dd-40c2-8c83-7cc13e0ded88"
    },
    {
      "cell_type": "code",
      "source": [
        "component_names = ['description', 'clean', 'correlation', 'split', 'logistic_regression_train', 'decission_trees_train', 'score', 'evaluate']\n",
        "components = {}\n",
        "for name in component_names:\n",
        "    component = load_component(source=f\"./components/{name}_component/{name}.yml\")\n",
        "    components[name] = ml_client.create_or_update(component)\n"
      ],
      "outputs": [
        {
          "output_type": "stream",
          "name": "stderr",
          "text": "\rUploading src (0.0 MBs):   0%|          | 0/1388 [00:00<?, ?it/s]\rUploading src (0.0 MBs): 100%|██████████| 1388/1388 [00:00<00:00, 13231.90it/s]\rUploading src (0.0 MBs): 100%|██████████| 1388/1388 [00:00<00:00, 12826.99it/s]\n\n\n"
        }
      ],
      "execution_count": 104,
      "metadata": {
        "gather": {
          "logged": 1699457967325
        }
      },
      "id": "92d340e9-f5b1-451e-9dcb-bd7702f40ee3"
    },
    {
      "cell_type": "code",
      "source": [
        "@pipeline(\n",
        "    default_compute=cpu_compute_target\n",
        ")\n",
        "def water_potability_logistic_regression(pipeline_input_data):\n",
        "    correlation_node = components['correlation'](\n",
        "        data=pipeline_input_data\n",
        "    )\n",
        "    clean_node = components['clean'](\n",
        "        data=pipeline_input_data\n",
        "    )\n",
        "    split_node = components['split'](\n",
        "        split_data=clean_node.outputs.clean_data_output\n",
        "    )\n",
        "    logistic_regression_train_node = components['logistic_regression_train'](\n",
        "        train_data=split_node.outputs.train_output,\n",
        "        objective='Potability'\n",
        "    )\n",
        "    score_node = components['score'](\n",
        "        model=logistic_regression_train_node.outputs.model_output,\n",
        "        test_data=split_node.outputs.test_output,\n",
        "    )\n",
        "    evaluate_node = components['evaluate'](\n",
        "        test_data=split_node.outputs.test_output,\n",
        "        predict_data=score_node.outputs.predict_output,\n",
        "        objective='Potability',\n",
        "        target_name='Potable',\n",
        "    )\n",
        "    return {\n",
        "        'pairplot': correlation_node.outputs.pairplot_image_output,\n",
        "        'model': logistic_regression_train_node.outputs.model_output,\n",
        "        'report': evaluate_node.outputs.report_output\n",
        "    }"
      ],
      "outputs": [],
      "execution_count": 105,
      "metadata": {
        "gather": {
          "logged": 1699457967460
        }
      },
      "id": "5bfe9f3f-8d1c-47f4-9a0c-7342a89e3b8a"
    },
    {
      "cell_type": "code",
      "source": [
        "data_asset = ml_client.data.get(name=datastore_name, version=v1)\n",
        "water_potability = Input(type=\"uri_file\", path=data_asset.path)\n",
        "pipeline = water_potability_logistic_regression(pipeline_input_data=water_potability)"
      ],
      "outputs": [],
      "execution_count": 95,
      "metadata": {
        "gather": {
          "logged": 1699455649625
        },
        "jupyter": {
          "outputs_hidden": false,
          "source_hidden": false
        },
        "nteract": {
          "transient": {
            "deleting": false
          }
        }
      },
      "id": "66f40e3b-b28b-4e6c-8232-647b58a38439"
    },
    {
      "cell_type": "code",
      "source": [
        "pipeline_job = ml_client.jobs.create_or_update(\n",
        "    pipeline,\n",
        "    experiment_name='pipeline-exp',\n",
        ")\n",
        "ml_client.jobs.stream(pipeline_job.name)"
      ],
      "outputs": [
        {
          "output_type": "stream",
          "name": "stdout",
          "text": "RunId: blue_squash_vqklcqmk9w\nWeb View: https://ml.azure.com/runs/blue_squash_vqklcqmk9w?wsid=/subscriptions/7445df36-7a0b-4835-915a-2215e66fff00/resourcegroups/RESS-TRABAJO2/workspaces/WS-TRABAJO2\n\nStreaming logs/azureml/executionlogs.txt\n========================================\n\n[2023-11-08 15:00:52Z] Submitting 2 runs, first five are: 11929846:69ab0ecd-1e6a-43e7-b7be-de56b639f4fc,fb47725b:0695d85a-ca2f-4a2b-bd7a-77de6fca89cd\n[2023-11-08 15:00:55Z] Completing processing run id 0695d85a-ca2f-4a2b-bd7a-77de6fca89cd.\n[2023-11-08 15:00:55Z] Completing processing run id 69ab0ecd-1e6a-43e7-b7be-de56b639f4fc.\n[2023-11-08 15:00:56Z] Submitting 1 runs, first five are: ac9f3efe:a2bc1e44-cdec-4c4e-93dc-a8907291f8b1\n[2023-11-08 15:01:00Z] Completing processing run id a2bc1e44-cdec-4c4e-93dc-a8907291f8b1.\n[2023-11-08 15:01:00Z] Submitting 1 runs, first five are: 947279c6:7687b8e0-3e7a-49a8-ad05-15d9d1d362fe\n[2023-11-08 15:01:04Z] Completing processing run id 7687b8e0-3e7a-49a8-ad05-15d9d1d362fe.\n[2023-11-08 15:01:04Z] Submitting 1 runs, first five are: ac4962cc:20cb6a5e-ee15-4934-8036-839522010893\n[2023-11-08 15:01:07Z] Completing processing run id 20cb6a5e-ee15-4934-8036-839522010893.\n[2023-11-08 15:01:08Z] Submitting 1 runs, first five are: 735d2176:e3aad2b0-6c5c-468d-82e1-3217343d7f2e\n[2023-11-08 15:01:11Z] Completing processing run id e3aad2b0-6c5c-468d-82e1-3217343d7f2e.\n\nExecution Summary\n=================\nRunId: blue_squash_vqklcqmk9w\nWeb View: https://ml.azure.com/runs/blue_squash_vqklcqmk9w?wsid=/subscriptions/7445df36-7a0b-4835-915a-2215e66fff00/resourcegroups/RESS-TRABAJO2/workspaces/WS-TRABAJO2\n\n"
        }
      ],
      "execution_count": 96,
      "metadata": {
        "gather": {
          "logged": 1699455674415
        }
      },
      "id": "61f48b6c-e4f6-4b83-a597-ac9889782720"
    },
    {
      "cell_type": "code",
      "source": [
        "output = ml_client.jobs.download(name=pipeline_job.name, download_path='./pipeline_output', all=True)"
      ],
      "outputs": [
        {
          "output_type": "stream",
          "name": "stderr",
          "text": "Downloading artifact azureml://subscriptions/7445df36-7a0b-4835-915a-2215e66fff00/resourcegroups/RESS-TRABAJO2/workspaces/WS-TRABAJO2/datastores/workspaceblobstore/paths/azureml/9693a7fb-9498-4324-89bb-461ac19bd679/model_output to pipeline_output/named-outputs/model\nDownloading artifact azureml://subscriptions/7445df36-7a0b-4835-915a-2215e66fff00/resourcegroups/RESS-TRABAJO2/workspaces/WS-TRABAJO2/datastores/workspaceblobstore/paths/azureml/5f0d3a2c-c56e-459d-ac94-19c8d90948d4/report_output to pipeline_output/named-outputs/report\nDownloading artifact azureml://subscriptions/7445df36-7a0b-4835-915a-2215e66fff00/resourcegroups/RESS-TRABAJO2/workspaces/WS-TRABAJO2/datastores/workspaceblobstore/paths/azureml/e78673ab-c936-4fd6-84e5-80e9f6e03e4a/pairplot_image_output/ to pipeline_output/named-outputs/pairplot\nDownloading artifact azureml://datastores/workspaceartifactstore/paths/ExperimentRun/dcid.blue_squash_vqklcqmk9w/ to pipeline_output/artifacts\nBad pipe message: %s [b']i\\x98\\xa7\\xf9aL\\xdf\\x7fD\\xf2\\xaci\\xe3\\x9d\\x02\\x0c\\xe9 l\\x13\\xf8\\x19H\\x06\\xccE1%hzuq0\\x00\\xae\\xbe\\x8d\\xac\\xf7?\\xf6fq+*G\\xc2\\x1d\\x8d}\\x00\\x08\\x13\\x02\\x13\\x03\\x13\\x01\\x00\\xff\\x01\\x00\\x00\\x8f\\x00\\x00\\x00\\x0e\\x00\\x0c\\x00\\x00\\t127.0.0.1\\x00\\x0b\\x00\\x04\\x03\\x00\\x01\\x02\\x00\\n\\x00\\x0c\\x00\\n\\x00\\x1d\\x00\\x17\\x00\\x1e\\x00\\x19\\x00\\x18\\x00#\\x00\\x00\\x00\\x16\\x00\\x00\\x00\\x17\\x00\\x00\\x00\\r\\x00\\x1e\\x00\\x1c\\x04\\x03\\x05\\x03\\x06\\x03\\x08\\x07\\x08\\x08\\x08\\t\\x08\\n\\x08\\x0b\\x08\\x04\\x08\\x05\\x08\\x06\\x04\\x01\\x05\\x01\\x06\\x01\\x00+\\x00\\x03\\x02\\x03\\x04\\x00-\\x00\\x02\\x01\\x01\\x003\\x00&\\x00$\\x00\\x1d\\x00 \\x9f\\xa2\\xd9\\xcf\\xdd.]']\nBad pipe message: %s [b\"\\xee\\xd3'\\xa6PSC\\n\\x89\\xe01\\x990Aj\\x8b\\xc1\\x81\\x00\\x00|\\xc0,\\xc00\\x00\\xa3\\x00\\x9f\\xcc\\xa9\\xcc\\xa8\\xcc\\xaa\\xc0\\xaf\\xc0\\xad\\xc0\\xa3\\xc0\\x9f\\xc0]\\xc0a\\xc0W\\xc0S\\xc0+\\xc0/\\x00\\xa2\\x00\\x9e\\xc0\\xae\\xc0\\xac\\xc0\\xa2\\xc0\"]\nBad pipe message: %s [b\"\\\\\\xc0`\\xc0V\\xc0R\\xc0$\\xc0(\\x00k\\x00j\\xc0#\\xc0'\\x00g\\x00@\\xc0\\n\\xc0\\x14\\x009\\x008\\xc0\\t\\xc0\\x13\\x003\\x002\\x00\\x9d\\xc0\\xa1\\xc0\\x9d\\xc0Q\\x00\\x9c\\xc0\\xa0\\xc0\\x9c\\xc0P\\x00=\\x00<\\x005\\x00/\\x00\\x9a\\x00\\x99\\xc0\\x07\\xc0\\x11\\x00\\x96\\x00\\x05\\x00\\xff\\x01\\x00\\x00j\\x00\\x00\\x00\\x0e\\x00\\x0c\\x00\\x00\\t127.0.0.1\\x00\\x0b\\x00\\x04\\x03\\x00\\x01\\x02\\x00\\n\\x00\\x0c\\x00\\n\\x00\\x1d\\x00\\x17\\x00\\x1e\\x00\\x19\\x00\\x18\\x00#\\x00\\x00\\x00\\x16\\x00\\x00\\x00\\x17\\x00\\x00\\x00\\r\\x000\\x00.\\x04\\x03\\x05\\x03\\x06\\x03\\x08\\x07\\x08\\x08\\x08\\t\\x08\\n\\x08\\x0b\"]\nBad pipe message: %s [b'\\x08\\x05\\x08\\x06\\x04\\x01\\x05']\nBad pipe message: %s [b'']\nBad pipe message: %s [b'', b'\\x03\\x03']\nBad pipe message: %s [b'']\nBad pipe message: %s [b'', b'\\x02']\nBad pipe message: %s [b'\\x05\\x02\\x06']\nBad pipe message: %s [b'O\\xa8]}\\xf3\\xbf \\xdfV\\x97C<z\\x85\\xa4\\xb6\\xc5\\x15\\x00\\x00>\\xc0\\x14\\xc0\\n\\x009\\x008\\x007\\x006\\xc0\\x0f\\xc0\\x05\\x005\\xc0\\x13\\xc0\\t\\x003\\x002\\x001\\x000\\xc0\\x0e\\xc0\\x04\\x00/\\x00\\x9a\\x00\\x99\\x00\\x98\\x00\\x97\\x00\\x96\\x00\\x07\\xc0\\x11\\xc0\\x07\\xc0\\x0c\\xc0\\x02\\x00\\x05\\x00', b'\\xff\\x02\\x01']\nBad pipe message: %s [b'G\\n\\xf47\\xb0\\xf3\\x96\\x12e\\x8f\\xc9\\x9dM\\x8f\\xa3\\t\\xed\\x83\\x00\\x00\\xa2\\xc0\\x14\\xc0\\n\\x009\\x008\\x007\\x006\\x00\\x88\\x00\\x87\\x00\\x86\\x00\\x85\\xc0\\x19\\x00:\\x00\\x89\\xc0\\x0f\\xc0\\x05\\x005\\x00\\x84\\xc0\\x13\\xc0\\t\\x003\\x002\\x001\\x000\\x00\\x9a\\x00\\x99']\nBad pipe message: %s [b'\\x97\\x0ei\\xe6H\\xf2\\xfdb\\x07\\x95Y`k\\x87sO\\xbdw\\x00\\x00\\xa2\\xc0\\x14\\xc0\\n\\x009\\x008\\x007\\x006\\x00\\x88\\x00\\x87\\x00\\x86\\x00\\x85\\xc0\\x19\\x00:\\x00\\x89\\xc0\\x0f\\xc0\\x05\\x005\\x00\\x84\\xc0\\x13\\xc0\\t\\x003\\x002\\x001\\x000\\x00\\x9a\\x00\\x99\\x00\\x98\\x00\\x97\\x00E\\x00D\\x00C\\x00B\\xc0\\x18\\x004\\x00\\x9b\\x00F\\xc0\\x0e\\xc0\\x04\\x00/\\x00\\x96\\x00A\\x00\\x07\\xc0\\x11\\xc0\\x07\\xc0\\x16\\x00\\x18\\xc0\\x0c\\xc0\\x02\\x00\\x05\\x00\\x04\\xc0\\x12\\xc0\\x08\\x00\\x16\\x00\\x13\\x00\\x10\\x00\\r\\xc0\\x17\\x00\\x1b\\xc0\\r\\xc0\\x03\\x00\\n\\x00\\x15\\x00\\x12\\x00\\x0f\\x00\\x0c\\x00\\x1a\\x00\\t\\x00\\x14\\x00\\x11\\x00\\x19\\x00\\x08\\x00\\x06\\x00\\x17\\x00\\x03\\xc0\\x10\\xc0\\x06\\xc0\\x15\\xc0\\x0b\\xc0\\x01\\x00\\x02\\x00\\x01\\x00\\xff\\x02\\x01\\x00\\x00C\\x00\\x00\\x00\\x0e\\x00\\x0c\\x00\\x00\\t127.0.0.1\\x00\\x0b\\x00\\x04\\x03\\x00\\x01\\x02\\x00\\n\\x00\\x1c\\x00\\x1a']\nBad pipe message: %s [b'VD\\xc4\\xf9\\xb5\\x1b0\\x9e.\\xf5k\\x1c`yE\\xb0\\xb5W\\x00\\x00\\xa2\\xc0\\x14\\xc0\\n\\x009\\x008\\x007\\x006\\x00\\x88\\x00\\x87\\x00\\x86\\x00\\x85\\xc0\\x19\\x00:\\x00\\x89\\xc0\\x0f\\xc0\\x05\\x005\\x00\\x84\\xc0\\x13\\xc0\\t\\x003\\x002\\x001\\x000\\x00\\x9a\\x00\\x99\\x00\\x98\\x00\\x97']\nBad pipe message: %s [b'P\\xc5\\xfd\\x05\\xee\\xd7\\x84e\\x93\\xc5\\x8cF\\x8f\\x1b1\"))\\x00\\x00\\x86\\xc00\\xc0,\\xc0(\\xc0$\\xc0\\x14\\xc0\\n\\x00\\xa5\\x00\\xa3\\x00\\xa1\\x00\\x9f\\x00k\\x00j\\x00i\\x00h\\x009\\x008\\x007\\x006\\xc02\\xc0.\\xc0*\\xc0&\\xc0\\x0f\\xc0\\x05\\x00\\x9d\\x00=\\x005\\xc0/\\xc0+\\xc0\\'\\xc0#\\xc0\\x13\\xc0\\t\\x00\\xa4\\x00\\xa2\\x00\\xa0\\x00\\x9e\\x00g\\x00@\\x00?\\x00>\\x003\\x002\\x001\\x000\\xc01\\xc0-\\xc0)\\xc0%\\xc0\\x0e\\xc0\\x04\\x00\\x9c\\x00<\\x00/\\x00\\x9a\\x00\\x99\\x00\\x98\\x00\\x97\\x00\\x96\\x00\\x07\\xc0\\x11\\xc0\\x07\\xc0\\x0c\\xc0\\x02\\x00\\x05\\x00\\x04\\x00\\xff\\x02\\x01\\x00\\x00g\\x00\\x00\\x00\\x0e\\x00\\x0c\\x00\\x00\\t127.0.0.1\\x00\\x0b\\x00\\x04\\x03\\x00\\x01\\x02\\x00\\n\\x00\\x1c\\x00\\x1a\\x00\\x17\\x00\\x19\\x00\\x1c\\x00\\x1b\\x00']\nBad pipe message: %s [b'\\x1a\\x00\\x16\\x00\\x0e\\x00\\r\\x00\\x0b\\x00\\x0c\\x00\\t\\x00\\n\\x00#\\x00\\x00\\x00\\r\\x00 ']\nBad pipe message: %s [b'\\xa1\\x10]\\xe0%\\xd4\\xbe\\x1c\\xf9\\x8c\\x16\\xdf\\xf3\\xbe\\xb9\\xde\\xb7h\\x00\\x00\\xf4\\xc00\\xc0,\\xc0(\\xc0$\\xc0\\x14\\xc0\\n\\x00\\xa5\\x00\\xa3\\x00\\xa1\\x00\\x9f\\x00k\\x00j\\x00i\\x00h\\x009\\x008\\x007\\x006\\x00\\x88\\x00\\x87\\x00\\x86\\x00\\x85\\xc0\\x19\\x00\\xa7\\x00m\\x00:\\x00\\x89\\xc02\\xc0.\\xc0*\\xc0&\\xc0\\x0f\\xc0\\x05\\x00\\x9d\\x00=\\x00']\nBad pipe message: %s [b\"\\x84\\xc0/\\xc0+\\xc0'\\xc0#\\xc0\\x13\\xc0\\t\\x00\\xa4\\x00\\xa2\\x00\\xa0\\x00\\x9e\\x00g\\x00@\\x00?\\x00>\\x003\\x002\\x001\\x000\\x00\\x9a\\x00\\x99\\x00\\x98\\x00\\x97\\x00E\\x00D\\x00C\\x00\"]\nBad pipe message: %s [b'\\x18\\x00\\xa6\\x00l\\x004\\x00\\x9b\\x00F\\xc01\\xc0-\\xc0)\\xc0%\\xc0\\x0e\\xc0\\x04\\x00\\x9c\\x00<\\x00/\\x00\\x96\\x00A\\x00\\x07\\xc0\\x11\\xc0\\x07\\xc0\\x16\\x00\\x18\\xc0\\x0c\\xc0\\x02\\x00\\x05\\x00\\x04\\xc0\\x12\\xc0\\x08\\x00\\x16\\x00\\x13\\x00\\x10\\x00\\r\\xc0\\x17']\n"
        }
      ],
      "execution_count": 97,
      "metadata": {
        "gather": {
          "logged": 1699455677426
        }
      },
      "id": "a392d6ed-03ba-4422-aa0b-857f1f62531e"
    }
  ],
  "metadata": {
    "kernel_info": {
      "name": "python310-sdkv2"
    },
    "kernelspec": {
      "name": "python310-sdkv2",
      "language": "python",
      "display_name": "Python 3.10 - SDK v2"
    },
    "language_info": {
      "name": "python",
      "version": "3.10.11",
      "mimetype": "text/x-python",
      "codemirror_mode": {
        "name": "ipython",
        "version": 3
      },
      "pygments_lexer": "ipython3",
      "nbconvert_exporter": "python",
      "file_extension": ".py"
    },
    "microsoft": {
      "host": {
        "AzureML": {
          "notebookHasBeenCompleted": true
        }
      },
      "ms_spell_check": {
        "ms_spell_check_language": "en"
      }
    },
    "nteract": {
      "version": "nteract-front-end@1.0.0"
    }
  },
  "nbformat": 4,
  "nbformat_minor": 5
}